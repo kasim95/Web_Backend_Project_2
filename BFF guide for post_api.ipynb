{
 "cells": [
  {
   "cell_type": "code",
   "execution_count": 1,
   "metadata": {},
   "outputs": [],
   "source": [
    "import requests"
   ]
  },
  {
   "cell_type": "code",
   "execution_count": 2,
   "metadata": {},
   "outputs": [],
   "source": [
    "import pandas as pd\n",
    "posts = pd.read_csv('posts.csv').drop('Unnamed: 0', axis=1).reset_index(drop=True)"
   ]
  },
  {
   "cell_type": "markdown",
   "metadata": {},
   "source": [
    "## Get 25 most recent posts to any community"
   ]
  },
  {
   "cell_type": "code",
   "execution_count": 3,
   "metadata": {},
   "outputs": [],
   "source": [
    "df = posts.sort_values(by=['published'], ascending=False)[:][:25]"
   ]
  },
  {
   "cell_type": "code",
   "execution_count": 4,
   "metadata": {},
   "outputs": [],
   "source": [
    "api = requests.get('http://localhost:5000/get?n=25&recent=True').json()\n",
    "df_api = pd.DataFrame(api)"
   ]
  },
  {
   "cell_type": "code",
   "execution_count": 5,
   "metadata": {},
   "outputs": [
    {
     "name": "stdout",
     "output_type": "stream",
     "text": [
      "Total number of results matched:  25\n"
     ]
    }
   ],
   "source": [
    "matched = 0\n",
    "for i in range(25):\n",
    "    if df.iloc[i]['uuid'] == df_api.iloc[i]['uuid']:\n",
    "        matched += 1\n",
    "print('Total number of results matched: ', matched)"
   ]
  },
  {
   "cell_type": "markdown",
   "metadata": {},
   "source": [
    "## Get 25 most recent posts to a particular community"
   ]
  },
  {
   "cell_type": "code",
   "execution_count": 9,
   "metadata": {},
   "outputs": [],
   "source": [
    "df = posts[posts['community_name']=='csuf']\n",
    "df = df.sort_values(by=['published'], ascending=False)[:][:25]"
   ]
  },
  {
   "cell_type": "code",
   "execution_count": 14,
   "metadata": {},
   "outputs": [],
   "source": [
    "api = requests.get('http://localhost:5000/get?n=25&community_name=csuf&recent=True').json()\n",
    "df_api = pd.DataFrame(api)"
   ]
  },
  {
   "cell_type": "code",
   "execution_count": 15,
   "metadata": {},
   "outputs": [
    {
     "name": "stdout",
     "output_type": "stream",
     "text": [
      "Total number of results matched:  25\n"
     ]
    }
   ],
   "source": [
    "matched = 0\n",
    "for i in range(25):\n",
    "    if df.iloc[i]['uuid'] == df_api.iloc[i]['uuid']:\n",
    "        matched += 1\n",
    "print('Total number of results matched: ', matched)"
   ]
  },
  {
   "cell_type": "markdown",
   "metadata": {},
   "source": [
    "## Top 25 posts to a particular community, sorted by score"
   ]
  },
  {
   "cell_type": "code",
   "execution_count": 26,
   "metadata": {},
   "outputs": [],
   "source": [
    "api = requests.get('http://localhost:5000/get?community_name=csuf').json()\n",
    "df_api = pd.DataFrame(api)"
   ]
  },
  {
   "cell_type": "markdown",
   "metadata": {},
   "source": [
    "Use all the uuids' from df_api and query to votes_api to get the uuids sorted as top 25\n",
    "\n",
    "Use these 25 uuids to filter the posts and return them as sorted in descending order by score"
   ]
  },
  {
   "cell_type": "markdown",
   "metadata": {},
   "source": [
    "## Top 25 posts to any community, sorted by score"
   ]
  },
  {
   "cell_type": "markdown",
   "metadata": {},
   "source": [
    "Query to votes_api and get all the top 25 uuids' sorted by score"
   ]
  },
  {
   "cell_type": "markdown",
   "metadata": {},
   "source": [
    "Then use these uuid to retrieve posts from post_api"
   ]
  },
  {
   "cell_type": "code",
   "execution_count": 35,
   "metadata": {},
   "outputs": [],
   "source": [
    "# example\n",
    "# uuids i got from votes_api\n",
    "uuids = ['CYBBQMXW3TICIOQBCND86Z0D3','D1X5AAIZJIHRETHLZJ7EAW80N','BWAF9RZ8TOJJYF7EO1X5GHZMF','BGV91UDA01N07BTWMAHRUVTSN']\n",
    "\n",
    "# use these uuids to retrieve posts from post_api\n",
    "result = []\n",
    "for i in uuids:\n",
    "    api = requests.get(f'http://localhost:5000/get?uuid={i}').json()\n",
    "    result += api\n",
    "df_api = pd.DataFrame(result)"
   ]
  },
  {
   "cell_type": "markdown",
   "metadata": {},
   "source": [
    "## Top 25 posts to any community ranked by Reddit's hot ranking algo"
   ]
  },
  {
   "cell_type": "code",
   "execution_count": 37,
   "metadata": {},
   "outputs": [],
   "source": [
    "api = requests.get('http://localhost:5000/get?community_name=csuf').json()\n",
    "df_api = pd.DataFrame(api)"
   ]
  },
  {
   "cell_type": "markdown",
   "metadata": {},
   "source": [
    "Use these UUIDs to get their scores from votes_api"
   ]
  },
  {
   "cell_type": "markdown",
   "metadata": {},
   "source": [
    "Then use published, and scores to get the 25 hottest uuids, then filter posts by those uuids, sort them in descending order by hot score and return them"
   ]
  },
  {
   "cell_type": "code",
   "execution_count": null,
   "metadata": {},
   "outputs": [],
   "source": []
  }
 ],
 "metadata": {
  "kernelspec": {
   "display_name": "Python 3",
   "language": "python",
   "name": "python3"
  },
  "language_info": {
   "codemirror_mode": {
    "name": "ipython",
    "version": 3
   },
   "file_extension": ".py",
   "mimetype": "text/x-python",
   "name": "python",
   "nbconvert_exporter": "python",
   "pygments_lexer": "ipython3",
   "version": "3.6.9"
  }
 },
 "nbformat": 4,
 "nbformat_minor": 4
}
