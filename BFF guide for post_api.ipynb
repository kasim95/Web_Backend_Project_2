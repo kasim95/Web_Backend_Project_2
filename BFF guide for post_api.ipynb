{
 "cells": [
  {
   "cell_type": "code",
   "execution_count": 12,
   "metadata": {},
   "outputs": [],
   "source": [
    "import requests\n",
    "import json"
   ]
  },
  {
   "cell_type": "code",
   "execution_count": 2,
   "metadata": {},
   "outputs": [],
   "source": [
    "import pandas as pd\n",
    "posts = pd.read_csv('posts.csv').drop('Unnamed: 0', axis=1).reset_index(drop=True)"
   ]
  },
  {
   "cell_type": "markdown",
   "metadata": {},
   "source": [
    "## Get 25 most recent posts to any community"
   ]
  },
  {
   "cell_type": "code",
   "execution_count": 3,
   "metadata": {},
   "outputs": [],
   "source": [
    "df = posts.sort_values(by=['published'], ascending=False)[:][:25]"
   ]
  },
  {
   "cell_type": "code",
   "execution_count": 4,
   "metadata": {},
   "outputs": [],
   "source": [
    "api = requests.get('http://localhost:5000/get?n=25&recent=True').json()\n",
    "df_api = pd.DataFrame(api)"
   ]
  },
  {
   "cell_type": "code",
   "execution_count": 5,
   "metadata": {},
   "outputs": [
    {
     "name": "stdout",
     "output_type": "stream",
     "text": [
      "Total number of results matched:  25\n"
     ]
    }
   ],
   "source": [
    "matched = 0\n",
    "for i in range(25):\n",
    "    if df.iloc[i]['uuid'] == df_api.iloc[i]['uuid']:\n",
    "        matched += 1\n",
    "print('Total number of results matched: ', matched)"
   ]
  },
  {
   "cell_type": "markdown",
   "metadata": {},
   "source": [
    "## Get 25 most recent posts to a particular community"
   ]
  },
  {
   "cell_type": "code",
   "execution_count": 9,
   "metadata": {},
   "outputs": [],
   "source": [
    "df = posts[posts['community_name']=='csuf']\n",
    "df = df.sort_values(by=['published'], ascending=False)[:][:25]"
   ]
  },
  {
   "cell_type": "code",
   "execution_count": 14,
   "metadata": {},
   "outputs": [],
   "source": [
    "api = requests.get('http://localhost:5000/get?n=25&community_name=csuf&recent=True').json()\n",
    "df_api = pd.DataFrame(api)"
   ]
  },
  {
   "cell_type": "code",
   "execution_count": 15,
   "metadata": {},
   "outputs": [
    {
     "name": "stdout",
     "output_type": "stream",
     "text": [
      "Total number of results matched:  25\n"
     ]
    }
   ],
   "source": [
    "matched = 0\n",
    "for i in range(25):\n",
    "    if df.iloc[i]['uuid'] == df_api.iloc[i]['uuid']:\n",
    "        matched += 1\n",
    "print('Total number of results matched: ', matched)"
   ]
  },
  {
   "cell_type": "markdown",
   "metadata": {},
   "source": [
    "## Top 25 posts to a particular community, sorted by score"
   ]
  },
  {
   "cell_type": "code",
   "execution_count": 58,
   "metadata": {},
   "outputs": [
    {
     "data": {
      "text/html": [
       "<div>\n",
       "<style scoped>\n",
       "    .dataframe tbody tr th:only-of-type {\n",
       "        vertical-align: middle;\n",
       "    }\n",
       "\n",
       "    .dataframe tbody tr th {\n",
       "        vertical-align: top;\n",
       "    }\n",
       "\n",
       "    .dataframe thead th {\n",
       "        text-align: right;\n",
       "    }\n",
       "</style>\n",
       "<table border=\"1\" class=\"dataframe\">\n",
       "  <thead>\n",
       "    <tr style=\"text-align: right;\">\n",
       "      <th></th>\n",
       "      <th>community_name</th>\n",
       "      <th>published</th>\n",
       "      <th>title</th>\n",
       "      <th>url</th>\n",
       "      <th>username</th>\n",
       "      <th>uuid</th>\n",
       "    </tr>\n",
       "  </thead>\n",
       "  <tbody>\n",
       "    <tr>\n",
       "      <th>0</th>\n",
       "      <td>news</td>\n",
       "      <td>1414634277</td>\n",
       "      <td>Costco will again stay closed on Thanksgiving ...</td>\n",
       "      <td>http://money.cnn.com/2014/10/28/news/companies...</td>\n",
       "      <td>MattRyd7</td>\n",
       "      <td>AWDNKOVVOE8ZTIKSB672MY6C7</td>\n",
       "    </tr>\n",
       "    <tr>\n",
       "      <th>1</th>\n",
       "      <td>news</td>\n",
       "      <td>1425002522</td>\n",
       "      <td>FCC approves net neutrality rules, reclassifie...</td>\n",
       "      <td>http://www.engadget.com/2015/02/26/fcc-net-neu...</td>\n",
       "      <td>bisnicks</td>\n",
       "      <td>AUEXD1MJIXTH1OSTIKE33YP3R</td>\n",
       "    </tr>\n",
       "    <tr>\n",
       "      <th>2</th>\n",
       "      <td>news</td>\n",
       "      <td>1435356168</td>\n",
       "      <td>Supreme Court legalizes gay marriage</td>\n",
       "      <td>http://www.washingtonpost.com/politics/gay-mar...</td>\n",
       "      <td>Peter_Venkman_1</td>\n",
       "      <td>AJJ7SD7GELAT9P1VHP69I3R87</td>\n",
       "    </tr>\n",
       "    <tr>\n",
       "      <th>3</th>\n",
       "      <td>news</td>\n",
       "      <td>1435915619</td>\n",
       "      <td>Reddit's popular 'ask me anything' feature is ...</td>\n",
       "      <td>http://www.businessinsider.com.au/reddits-ama-...</td>\n",
       "      <td>thxpk</td>\n",
       "      <td>B2W6SFK6GOBWXN3AKT089VE6V</td>\n",
       "    </tr>\n",
       "    <tr>\n",
       "      <th>4</th>\n",
       "      <td>news</td>\n",
       "      <td>1436592186</td>\n",
       "      <td>Ellen Pao Is Stepping Down as Reddit’s Chief</td>\n",
       "      <td>http://www.nytimes.com/2015/07/11/technology/e...</td>\n",
       "      <td>caimen</td>\n",
       "      <td>AOA8K62BZOMWJLZMT89V1D40N</td>\n",
       "    </tr>\n",
       "  </tbody>\n",
       "</table>\n",
       "</div>"
      ],
      "text/plain": [
       "  community_name   published  \\\n",
       "0           news  1414634277   \n",
       "1           news  1425002522   \n",
       "2           news  1435356168   \n",
       "3           news  1435915619   \n",
       "4           news  1436592186   \n",
       "\n",
       "                                               title  \\\n",
       "0  Costco will again stay closed on Thanksgiving ...   \n",
       "1  FCC approves net neutrality rules, reclassifie...   \n",
       "2               Supreme Court legalizes gay marriage   \n",
       "3  Reddit's popular 'ask me anything' feature is ...   \n",
       "4       Ellen Pao Is Stepping Down as Reddit’s Chief   \n",
       "\n",
       "                                                 url         username  \\\n",
       "0  http://money.cnn.com/2014/10/28/news/companies...         MattRyd7   \n",
       "1  http://www.engadget.com/2015/02/26/fcc-net-neu...         bisnicks   \n",
       "2  http://www.washingtonpost.com/politics/gay-mar...  Peter_Venkman_1   \n",
       "3  http://www.businessinsider.com.au/reddits-ama-...            thxpk   \n",
       "4  http://www.nytimes.com/2015/07/11/technology/e...           caimen   \n",
       "\n",
       "                        uuid  \n",
       "0  AWDNKOVVOE8ZTIKSB672MY6C7  \n",
       "1  AUEXD1MJIXTH1OSTIKE33YP3R  \n",
       "2  AJJ7SD7GELAT9P1VHP69I3R87  \n",
       "3  B2W6SFK6GOBWXN3AKT089VE6V  \n",
       "4  AOA8K62BZOMWJLZMT89V1D40N  "
      ]
     },
     "execution_count": 58,
     "metadata": {},
     "output_type": "execute_result"
    }
   ],
   "source": [
    "api = requests.get('http://localhost:5000/get?community_name=news').json()\n",
    "df_api = pd.DataFrame(api)\n",
    "df_api.head()"
   ]
  },
  {
   "cell_type": "markdown",
   "metadata": {},
   "source": [
    "Use all the uuids from df_api and query to votes_api to get the uuids sorted as top 25\n",
    "\n",
    "Use these 25 uuids to filter the posts and return them as sorted in descending order by score"
   ]
  },
  {
   "cell_type": "code",
   "execution_count": 60,
   "metadata": {},
   "outputs": [
    {
     "name": "stdout",
     "output_type": "stream",
     "text": [
      "     score                       uuid\n",
      "0   226319  AJJ7S4VVV3S62X7R81YF5ZH5J\n",
      "1   211486  AJJ7S53KE2DVLJF1HIDBWYZ6F\n",
      "2   188173  AJJ7S5B8X0ZL4L90R5YO5DBX3\n",
      "3   186249  AJJ7S5IXFZLAMWVRF0FCEB6AF\n",
      "4   177997  AJJ7S5QLYY7059WMC3AB35Q53\n",
      "5   170188  AJJ7S5YAHWSPODECASRC3L8RB\n",
      "6   155790  AJJ7S65Z0VEF75WCOB5QXYZRR\n",
      "7   154794  AJJ7S6DNJU04P72XPP1VNRQMV\n",
      "8   153843  AJJ7S6LC2SLU7MQN50U2VVXJR\n",
      "9   149909  AJJ7S6T0LR7JQHJPZ9XE6SK2F\n",
      "10  147345  AJJ7S70P4PT99B0580EZDFBTJ\n",
      "11  133091  AJJ7S78DNOEYRZ06BV5TSO2HJ\n",
      "12  129147  AJJ7S7G26N0OA4CNIAXWW7ATZ\n",
      "13  126711  AJJ7S7VF8K83BKBZIGB3X8GIF\n",
      "14  124876  AJJ7S833RITSUWGYPO93T7YC7\n",
      "15  124443  AJJ7S8ASAHFIDDMSIIE6ZTPQV\n",
      "16  123950  AJJ7S8IGTG17VG6HS26YRVYC7\n",
      "17  121743  AJJ7S8Q5CEMXEB19LCQAVF91Z\n",
      "18  121533  AJJ7S8XTVD8MWLA1JIKBNS9LJ\n",
      "19  119967  AJJ7S95IEBUCFAI6Q6RK92F87\n",
      "20  119006  AJJ7S9KVG91RH6KAZF1EBHTHZ\n",
      "21  118490  AJJ7S9SJZ7NGZK6PXDDQEJGYF\n",
      "22  118355  AJJ7SA08I696HONEGX4HUFMON\n",
      "23  116783  AJJ7SA7X14UW17H475X34UE1J\n",
      "24  116628  AJJ7SAFLK3GLJ1UF6TTAHZFKN\n"
     ]
    }
   ],
   "source": [
    "# example\n",
    "uuids = list(df_api['uuid'])\n",
    "# use these uuids to get top 25 scored from votes_api\n",
    "result = []\n",
    "data={\"uuid\": uuids, \"sorted\":\"True\", \"n\":25}\n",
    "header = {\"Content-type\": \"application/json\",}\n",
    "api = requests.post('http://localhost:5001/getlist', data=json.dumps(data), headers=header)\n",
    "\n",
    "df_api = pd.DataFrame(api.json())\n",
    "print(df_api)"
   ]
  },
  {
   "cell_type": "markdown",
   "metadata": {},
   "source": [
    "## Top 25 posts to any community, sorted by score"
   ]
  },
  {
   "cell_type": "markdown",
   "metadata": {},
   "source": [
    "Query to votes_api and get all the top 25 uuids' sorted by score"
   ]
  },
  {
   "cell_type": "code",
   "execution_count": 70,
   "metadata": {},
   "outputs": [
    {
     "name": "stdout",
     "output_type": "stream",
     "text": [
      "     score                       uuid\n",
      "0   226319  AJJ7S4VVV3S62X7R81YF5ZH5J\n",
      "1   211486  AJJ7S53KE2DVLJF1HIDBWYZ6F\n",
      "2   188173  AJJ7S5B8X0ZL4L90R5YO5DBX3\n",
      "3   186249  AJJ7S5IXFZLAMWVRF0FCEB6AF\n",
      "4   177997  AJJ7S5QLYY7059WMC3AB35Q53\n",
      "5   170188  AJJ7S5YAHWSPODECASRC3L8RB\n",
      "6   155790  AJJ7S65Z0VEF75WCOB5QXYZRR\n",
      "7   154794  AJJ7S6DNJU04P72XPP1VNRQMV\n",
      "8   153843  AJJ7S6LC2SLU7MQN50U2VVXJR\n",
      "9   149909  AJJ7S6T0LR7JQHJPZ9XE6SK2F\n",
      "10  147345  AJJ7S70P4PT99B0580EZDFBTJ\n",
      "11  133091  AJJ7S78DNOEYRZ06BV5TSO2HJ\n",
      "12  129147  AJJ7S7G26N0OA4CNIAXWW7ATZ\n",
      "13  129033  AJJ7S7NQPLMDSUKO7X0W5DBX3\n",
      "14  126711  AJJ7S7VF8K83BKBZIGB3X8GIF\n",
      "15  124876  AJJ7S833RITSUWGYPO93T7YC7\n",
      "16  124443  AJJ7S8ASAHFIDDMSIIE6ZTPQV\n",
      "17  123950  AJJ7S8IGTG17VG6HS26YRVYC7\n",
      "18  121743  AJJ7S8Q5CEMXEB19LCQAVF91Z\n",
      "19  121533  AJJ7S8XTVD8MWLA1JIKBNS9LJ\n",
      "20  119967  AJJ7S95IEBUCFAI6Q6RK92F87\n",
      "21  119084  AJJ7S9D6XAG1YPDJXAAH8WS5Z\n",
      "22  119006  AJJ7S9KVG91RH6KAZF1EBHTHZ\n",
      "23  118490  AJJ7S9SJZ7NGZK6PXDDQEJGYF\n",
      "24  118355  AJJ7SA08I696HONEGX4HUFMON\n"
     ]
    }
   ],
   "source": [
    "# example\n",
    "uuids =  ['CYBBQMXW3TICIOQBCND86Z0D3','D1X5AAIZJIHRETHLZJ7EAW80N','BWAF9RZ8TOJJYF7EO1X5GHZMF','BGV91UDA01N07BTWMAHRUVTSN']\n",
    "\n",
    "# use these uuids to retrieve posts from post_api\n",
    "result = []\n",
    "api = requests.get('http://localhost:5001/get?n=25&sorted=True')\n",
    "\n",
    "df_api = pd.DataFrame(api.json())\n",
    "print(df_api)"
   ]
  },
  {
   "cell_type": "markdown",
   "metadata": {},
   "source": [
    "Then use these uuid to retrieve posts from post_api"
   ]
  },
  {
   "cell_type": "code",
   "execution_count": 73,
   "metadata": {},
   "outputs": [
    {
     "name": "stdout",
     "output_type": "stream",
     "text": [
      "   community_name   published  \\\n",
      "0            news  1570682717   \n",
      "1            news  1580096278   \n",
      "2            news  1521027928   \n",
      "3            news  1572464847   \n",
      "4            news  1511312193   \n",
      "5            news  1565470855   \n",
      "6            news  1542077284   \n",
      "7            news  1535271678   \n",
      "8            news  1576749062   \n",
      "9            news  1513835953   \n",
      "10           news  1513304008   \n",
      "11           news  1588036371   \n",
      "12           news  1543668883   \n",
      "13    Coronavirus  1583892241   \n",
      "14           news  1509477637   \n",
      "15           news  1551505940   \n",
      "16           news  1521536525   \n",
      "17           news  1500603263   \n",
      "18           news  1583967901   \n",
      "19           news  1485861938   \n",
      "20           news  1570569113   \n",
      "21    Coronavirus  1584920505   \n",
      "22           news  1579649608   \n",
      "23           news  1552416451   \n",
      "24           news  1587795628   \n",
      "\n",
      "                                                title  \\\n",
      "0   Blizzard Employees Staged a Walkout After the ...   \n",
      "1   Kobe Bryant killed in helicopter crash in Cali...   \n",
      "2          Scientist Stephen Hawking has died aged 76   \n",
      "3   Jeffrey Epstein's autopsy more consistent with...   \n",
      "4      F.C.C. Announces Plan to Repeal Net Neutrality   \n",
      "5   Jeffrey Epstein, accused sex trafficker, dies ...   \n",
      "6                 Report: Stan Lee dead at 95 - Story   \n",
      "7   Arizona Senator John McCain has passed away at...   \n",
      "8                  President Trump has been impeached   \n",
      "9   Apple admits it slows older iPhones, confirmin...   \n",
      "10                          Net Neutrality Overturned   \n",
      "11  Leader of North Carolina lockdown Protest grou...   \n",
      "12       Former President George H.W. Bush Dies at 94   \n",
      "13  Even if COVID-19 is unavoidable, delaying infe...   \n",
      "14  Japanese firm gives non-smokers extra six days...   \n",
      "15  Entire staffs at 3 Sonic locations quit after ...   \n",
      "16  #DeleteFacebook Movement Gains Steam After 50 ...   \n",
      "17  Chester Bennington of Linkin Park commits suicide   \n",
      "18  Harvey Weinstein sentenced to 23 years in pris...   \n",
      "19  U.S. President Donald Trump fired the federal ...   \n",
      "20  Blizzard pulls Blitzchung from Hearthstone tou...   \n",
      "21  Gino Fasoli was 73 years old. He was italian a...   \n",
      "22  U.S. Supreme Court lets Flint, Michigan reside...   \n",
      "23       Italy bans unvaccinated children from school   \n",
      "24  Marine Corps Bans Public Display of Confederat...   \n",
      "\n",
      "                                                  url             username  \\\n",
      "0   https://www.thedailybeast.com/blizzard-employe...               SageMo   \n",
      "1   https://www.fox5dc.com/news/kobe-bryant-killed...               headee   \n",
      "2   http://news.sky.com/story/scientist-stephen-ha...  areallyshitusername   \n",
      "3   https://www.foxnews.com/us/forensic-pathologis...        purrgatory920   \n",
      "4   https://www.nytimes.com/2017/11/21/technology/...         IAmSlimShady   \n",
      "5   https://abcnews.go.com/US/jeffrey-epstein-accu...               headee   \n",
      "6   http://www.fox46charlotte.com/news/report-stan...         cameraman502   \n",
      "7   https://www.abc15.com/news/state/arizona-senat...                nmork   \n",
      "8   https://www.cnn.com/politics/live-news/impeach...           oroticacid   \n",
      "9   https://www.cnet.com/news/apple-iphone-6-6s-7-...    ErnestGetsElected   \n",
      "10  https://www.nytimes.com/2017/12/14/technology/...            DWinsauer   \n",
      "11  https://www.wral.com/coronavirus/nc-coronaviru...       RandomLeavings   \n",
      "12  https://www.nbcdfw.com/news/local/Former-Presi...            quinninin   \n",
      "13  https://thespinoff.co.nz/wp-content/uploads/20...             finchdad   \n",
      "14  http://www.independent.co.uk/news/world/asia/j...           ajstrange1   \n",
      "15  https://kutv.com/news/offbeat/entire-staffs-at...        Annahsbananas   \n",
      "16  https://www.thewrap.com/delete-facebook-twitte...       JoseTwitterFan   \n",
      "17  http://wtkr.com/2017/07/20/tmz-report-chester-...       Another-Chance   \n",
      "18  https://www.cnbc.com/2020/03/11/harvey-weinste...           JAlbert653   \n",
      "19  http://www.reuters.com/article/us-usa-trump-im...            hoosakiwi   \n",
      "20  https://www.cnet.com/news/blizzard-removes-bli...                 V_IR   \n",
      "21  https://www.corriere.it/cronache/20_marzo_21/c...            Franky_95   \n",
      "22  https://www.reuters.com/article/us-usa-court-f...            protekt0r   \n",
      "23   https://www.bbc.co.uk/news/world-europe-47536981        Crankyoldhobo   \n",
      "24  https://www.nytimes.com/2020/04/23/us/marine-c...          Slapdaddy90   \n",
      "\n",
      "                         uuid  \n",
      "0   AJJ7S4VVV3S62X7R81YF5ZH5J  \n",
      "1   AJJ7S53KE2DVLJF1HIDBWYZ6F  \n",
      "2   AJJ7S5B8X0ZL4L90R5YO5DBX3  \n",
      "3   AJJ7S5IXFZLAMWVRF0FCEB6AF  \n",
      "4   AJJ7S5QLYY7059WMC3AB35Q53  \n",
      "5   AJJ7S5YAHWSPODECASRC3L8RB  \n",
      "6   AJJ7S65Z0VEF75WCOB5QXYZRR  \n",
      "7   AJJ7S6DNJU04P72XPP1VNRQMV  \n",
      "8   AJJ7S6LC2SLU7MQN50U2VVXJR  \n",
      "9   AJJ7S6T0LR7JQHJPZ9XE6SK2F  \n",
      "10  AJJ7S70P4PT99B0580EZDFBTJ  \n",
      "11  AJJ7S78DNOEYRZ06BV5TSO2HJ  \n",
      "12  AJJ7S7G26N0OA4CNIAXWW7ATZ  \n",
      "13  AJJ7S7NQPLMDSUKO7X0W5DBX3  \n",
      "14  AJJ7S7VF8K83BKBZIGB3X8GIF  \n",
      "15  AJJ7S833RITSUWGYPO93T7YC7  \n",
      "16  AJJ7S8ASAHFIDDMSIIE6ZTPQV  \n",
      "17  AJJ7S8IGTG17VG6HS26YRVYC7  \n",
      "18  AJJ7S8Q5CEMXEB19LCQAVF91Z  \n",
      "19  AJJ7S8XTVD8MWLA1JIKBNS9LJ  \n",
      "20  AJJ7S95IEBUCFAI6Q6RK92F87  \n",
      "21  AJJ7S9D6XAG1YPDJXAAH8WS5Z  \n",
      "22  AJJ7S9KVG91RH6KAZF1EBHTHZ  \n",
      "23  AJJ7S9SJZ7NGZK6PXDDQEJGYF  \n",
      "24  AJJ7SA08I696HONEGX4HUFMON  \n"
     ]
    }
   ],
   "source": [
    "# example\n",
    "# uuids i got from votes_api\n",
    "# uuids = ['CYBBQMXW3TICIOQBCND86Z0D3','D1X5AAIZJIHRETHLZJ7EAW80N','BWAF9RZ8TOJJYF7EO1X5GHZMF','BGV91UDA01N07BTWMAHRUVTSN']\n",
    "uuids = list(df_api['uuid'])\n",
    "# use these uuids to retrieve posts from post_api\n",
    "result = []\n",
    "data={\"uuid\": uuids}\n",
    "header = {\"Content-type\": \"application/json\",}\n",
    "api = requests.post('http://localhost:5000/get_uuids', data=json.dumps(data), headers=header)\n",
    "\n",
    "df_api = pd.DataFrame(api.json())\n",
    "print(df_api)"
   ]
  },
  {
   "cell_type": "markdown",
   "metadata": {},
   "source": [
    "## Top 25 posts to any community ranked by Reddit's hot ranking algo"
   ]
  },
  {
   "cell_type": "code",
   "execution_count": 37,
   "metadata": {},
   "outputs": [],
   "source": [
    "api = requests.get('http://localhost:5000/get?community_name=csuf').json()\n",
    "df_api = pd.DataFrame(api)"
   ]
  },
  {
   "cell_type": "markdown",
   "metadata": {},
   "source": [
    "Use these UUIDs to get their scores from votes_api"
   ]
  },
  {
   "cell_type": "markdown",
   "metadata": {},
   "source": [
    "Then use published, and scores to get the 25 hottest uuids, then filter posts by those uuids, sort them in descending order by hot score and return them"
   ]
  },
  {
   "cell_type": "code",
   "execution_count": null,
   "metadata": {},
   "outputs": [],
   "source": []
  }
 ],
 "metadata": {
  "kernelspec": {
   "display_name": "Python 3",
   "language": "python",
   "name": "python3"
  },
  "language_info": {
   "codemirror_mode": {
    "name": "ipython",
    "version": 3
   },
   "file_extension": ".py",
   "mimetype": "text/x-python",
   "name": "python",
   "nbconvert_exporter": "python",
   "pygments_lexer": "ipython3",
   "version": "3.7.3"
  }
 },
 "nbformat": 4,
 "nbformat_minor": 4
}
