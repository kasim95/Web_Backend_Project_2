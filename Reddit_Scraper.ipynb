{
 "cells": [
  {
   "cell_type": "code",
   "execution_count": 3,
   "metadata": {},
   "outputs": [],
   "source": [
    "# import praw\n",
    "import pandas as pd\n",
    "import requests\n",
    "import datetime\n",
    "import uuid\n",
    "from reddit_api_creds import *"
   ]
  },
  {
   "cell_type": "code",
   "execution_count": 4,
   "metadata": {},
   "outputs": [],
   "source": [
    "# Kudos to Wikipedia https://en.wikipedia.org/wiki/Base36\n",
    "def base36encode(integer: int) -> str:\n",
    "    \"\"\"Convert from Base10 to Base36.\"\"\"\n",
    "    chars = '0123456789ABCDEFGHIJKLMNOPQRSTUVWXYZ'\n",
    "\n",
    "    sign = '-' if integer < 0 else ''\n",
    "    integer = abs(integer)\n",
    "    result = ''\n",
    "\n",
    "    while integer > 0:\n",
    "        integer, remainder = divmod(integer, 36)\n",
    "        result = chars[remainder] + result\n",
    "\n",
    "    return sign + result"
   ]
  },
  {
   "cell_type": "code",
   "execution_count": 6,
   "metadata": {},
   "outputs": [
    {
     "data": {
      "text/plain": [
       "'9H1TQXRQQ8JAL7HE1OSWN6K5Z'"
      ]
     },
     "execution_count": 6,
     "metadata": {},
     "output_type": "execute_result"
    }
   ],
   "source": [
    "import uuid\n",
    "base36encode(uuid.uuid1().int)"
   ]
  },
  {
   "cell_type": "code",
   "execution_count": 9,
   "metadata": {},
   "outputs": [
    {
     "data": {
      "text/plain": [
       "1588265108.166598"
      ]
     },
     "execution_count": 9,
     "metadata": {},
     "output_type": "execute_result"
    }
   ],
   "source": [
    "datetime.datetime.now().timestamp()"
   ]
  },
  {
   "cell_type": "code",
   "execution_count": 11,
   "metadata": {},
   "outputs": [
    {
     "data": {
      "text/plain": [
       "datetime.datetime(2020, 4, 30, 16, 45, 8)"
      ]
     },
     "execution_count": 11,
     "metadata": {},
     "output_type": "execute_result"
    }
   ],
   "source": [
    "datetime.datetime.utcfromtimestamp(1588265108)"
   ]
  },
  {
   "cell_type": "markdown",
   "metadata": {},
   "source": [
    "# Scraper"
   ]
  },
  {
   "cell_type": "code",
   "execution_count": 39,
   "metadata": {},
   "outputs": [],
   "source": [
    "scraper = praw.Reddit(client_id=CLIENT_ID,\n",
    "                     client_secret=CLIENT_SECRET,\n",
    "                     user_agent=USER_AGENT\n",
    "                     )"
   ]
  },
  {
   "cell_type": "code",
   "execution_count": 40,
   "metadata": {},
   "outputs": [],
   "source": [
    "subreddits = scraper.subreddit('csuf+news+Coronavirus+Python+computerscience+bitcoin')\n",
    "# subreddits = scraper.subreddit('csuf')"
   ]
  },
  {
   "cell_type": "code",
   "execution_count": 42,
   "metadata": {},
   "outputs": [],
   "source": [
    "# scraped_posts = subreddits.hot(limit=10000)\n",
    "scraped_posts = subreddits.top(limit=10000)\n",
    "#scraped_posts = subreddits.top(limit=30)"
   ]
  },
  {
   "cell_type": "code",
   "execution_count": 43,
   "metadata": {},
   "outputs": [],
   "source": [
    "data = []\n",
    "data1 = []\n",
    "for post in scraped_posts:\n",
    "    # get base36 uuid\n",
    "    uid = uuid.uuid1()\n",
    "    uid = base36encode(uid.int)\n",
    "    \n",
    "    # username\n",
    "    username = post.author\n",
    "    if type(username) == praw.models.Redditor:\n",
    "        username = post.author.name\n",
    "    else:\n",
    "        username = '[deleted]'\n",
    "    \n",
    "    # published\n",
    "    published = post.created\n",
    "    # published = datetime.datetime.utcfromtimestamp(post.created).isoformat()\n",
    "    \n",
    "    \n",
    "    # community_name\n",
    "    community_name = post.subreddit.display_name\n",
    "    \n",
    "    data.append([uid, username, post.title, community_name, post.url, post.selftext, published])\n",
    "    data1.append([uid, post.score, community_name, published])"
   ]
  },
  {
   "cell_type": "code",
   "execution_count": 44,
   "metadata": {},
   "outputs": [],
   "source": [
    "posts = pd.DataFrame(data, columns=['uuid', 'username', 'title', 'community_name', 'url', 'description', 'published'])\n",
    "votes = pd.DataFrame(data1, columns=['uuid', 'score', 'community_name', 'published'])\n",
    "posts = posts.convert_dtypes()"
   ]
  },
  {
   "cell_type": "markdown",
   "metadata": {},
   "source": [
    "# Shuffle dataframes"
   ]
  },
  {
   "cell_type": "code",
   "execution_count": 45,
   "metadata": {},
   "outputs": [],
   "source": [
    "posts = posts.sample(frac=1, random_state=100).reset_index(drop=True)\n",
    "votes = votes.sample(frac=1, random_state=100).reset_index(drop=True)"
   ]
  },
  {
   "cell_type": "markdown",
   "metadata": {},
   "source": [
    "# Count and dtypes"
   ]
  },
  {
   "cell_type": "code",
   "execution_count": 46,
   "metadata": {},
   "outputs": [
    {
     "name": "stdout",
     "output_type": "stream",
     "text": [
      "uuid              string\n",
      "username          string\n",
      "title             string\n",
      "community_name    string\n",
      "url               string\n",
      "description       string\n",
      "published          Int64\n",
      "dtype: object\n"
     ]
    }
   ],
   "source": [
    "print(posts.dtypes)"
   ]
  },
  {
   "cell_type": "code",
   "execution_count": 47,
   "metadata": {},
   "outputs": [
    {
     "data": {
      "text/html": [
       "<div>\n",
       "<style scoped>\n",
       "    .dataframe tbody tr th:only-of-type {\n",
       "        vertical-align: middle;\n",
       "    }\n",
       "\n",
       "    .dataframe tbody tr th {\n",
       "        vertical-align: top;\n",
       "    }\n",
       "\n",
       "    .dataframe thead th {\n",
       "        text-align: right;\n",
       "    }\n",
       "</style>\n",
       "<table border=\"1\" class=\"dataframe\">\n",
       "  <thead>\n",
       "    <tr style=\"text-align: right;\">\n",
       "      <th></th>\n",
       "      <th>username</th>\n",
       "      <th>title</th>\n",
       "      <th>url</th>\n",
       "      <th>description</th>\n",
       "      <th>published</th>\n",
       "    </tr>\n",
       "    <tr>\n",
       "      <th>community_name</th>\n",
       "      <th></th>\n",
       "      <th></th>\n",
       "      <th></th>\n",
       "      <th></th>\n",
       "      <th></th>\n",
       "    </tr>\n",
       "  </thead>\n",
       "  <tbody>\n",
       "    <tr>\n",
       "      <th>Bitcoin</th>\n",
       "      <td>990</td>\n",
       "      <td>990</td>\n",
       "      <td>990</td>\n",
       "      <td>990</td>\n",
       "      <td>990</td>\n",
       "    </tr>\n",
       "    <tr>\n",
       "      <th>Coronavirus</th>\n",
       "      <td>980</td>\n",
       "      <td>980</td>\n",
       "      <td>980</td>\n",
       "      <td>980</td>\n",
       "      <td>980</td>\n",
       "    </tr>\n",
       "    <tr>\n",
       "      <th>Python</th>\n",
       "      <td>994</td>\n",
       "      <td>994</td>\n",
       "      <td>994</td>\n",
       "      <td>994</td>\n",
       "      <td>994</td>\n",
       "    </tr>\n",
       "    <tr>\n",
       "      <th>computerscience</th>\n",
       "      <td>981</td>\n",
       "      <td>981</td>\n",
       "      <td>981</td>\n",
       "      <td>981</td>\n",
       "      <td>981</td>\n",
       "    </tr>\n",
       "    <tr>\n",
       "      <th>csuf</th>\n",
       "      <td>1000</td>\n",
       "      <td>1000</td>\n",
       "      <td>1000</td>\n",
       "      <td>1000</td>\n",
       "      <td>1000</td>\n",
       "    </tr>\n",
       "    <tr>\n",
       "      <th>news</th>\n",
       "      <td>991</td>\n",
       "      <td>991</td>\n",
       "      <td>991</td>\n",
       "      <td>991</td>\n",
       "      <td>991</td>\n",
       "    </tr>\n",
       "  </tbody>\n",
       "</table>\n",
       "</div>"
      ],
      "text/plain": [
       "                 username  title   url  description  published\n",
       "community_name                                                \n",
       "Bitcoin               990    990   990          990        990\n",
       "Coronavirus           980    980   980          980        980\n",
       "Python                994    994   994          994        994\n",
       "computerscience       981    981   981          981        981\n",
       "csuf                 1000   1000  1000         1000       1000\n",
       "news                  991    991   991          991        991"
      ]
     },
     "execution_count": 47,
     "metadata": {},
     "output_type": "execute_result"
    }
   ],
   "source": [
    "# print no of records in each community\n",
    "posts.set_index(['uuid', 'community_name']).count(level='community_name')"
   ]
  },
  {
   "cell_type": "markdown",
   "metadata": {},
   "source": [
    "# Save to JSON and csv"
   ]
  },
  {
   "cell_type": "code",
   "execution_count": 48,
   "metadata": {},
   "outputs": [],
   "source": [
    "posts.to_json('data/posts.json', index=False, orient='table', indent=1)"
   ]
  },
  {
   "cell_type": "code",
   "execution_count": 49,
   "metadata": {},
   "outputs": [],
   "source": [
    "votes.to_json('data/votes.json', index=False, orient='table', indent=1)"
   ]
  },
  {
   "cell_type": "code",
   "execution_count": 50,
   "metadata": {},
   "outputs": [],
   "source": [
    "posts.to_csv('data/posts.csv')\n",
    "votes.to_csv('data/votes.csv')"
   ]
  },
  {
   "cell_type": "markdown",
   "metadata": {},
   "source": [
    "### Manually check if answers are right (Ignore this)"
   ]
  },
  {
   "cell_type": "code",
   "execution_count": 51,
   "metadata": {},
   "outputs": [
    {
     "data": {
      "text/plain": [
       "datetime.datetime(2020, 4, 28, 16, 3, 8)"
      ]
     },
     "execution_count": 51,
     "metadata": {},
     "output_type": "execute_result"
    }
   ],
   "source": [
    "#import datetime\n",
    "datetime.datetime.utcfromtimestamp(1588089788)"
   ]
  },
  {
   "cell_type": "code",
   "execution_count": 52,
   "metadata": {
    "collapsed": true,
    "jupyter": {
     "outputs_hidden": true
    }
   },
   "outputs": [
    {
     "data": {
      "text/html": [
       "<div>\n",
       "<style scoped>\n",
       "    .dataframe tbody tr th:only-of-type {\n",
       "        vertical-align: middle;\n",
       "    }\n",
       "\n",
       "    .dataframe tbody tr th {\n",
       "        vertical-align: top;\n",
       "    }\n",
       "\n",
       "    .dataframe thead th {\n",
       "        text-align: right;\n",
       "    }\n",
       "</style>\n",
       "<table border=\"1\" class=\"dataframe\">\n",
       "  <thead>\n",
       "    <tr style=\"text-align: right;\">\n",
       "      <th></th>\n",
       "      <th>uuid</th>\n",
       "      <th>username</th>\n",
       "      <th>title</th>\n",
       "      <th>community_name</th>\n",
       "      <th>url</th>\n",
       "      <th>description</th>\n",
       "      <th>published</th>\n",
       "    </tr>\n",
       "  </thead>\n",
       "  <tbody>\n",
       "    <tr>\n",
       "      <th>421</th>\n",
       "      <td>CAEPJIPK49FSWZ4K02JBAFYJB</td>\n",
       "      <td>Sponta7</td>\n",
       "      <td>Made an annoying Python script that sends a fr...</td>\n",
       "      <td>Python</td>\n",
       "      <td>https://i.redd.it/04iw5fezewv41.png</td>\n",
       "      <td></td>\n",
       "      <td>1588256580</td>\n",
       "    </tr>\n",
       "    <tr>\n",
       "      <th>4115</th>\n",
       "      <td>CYBBQMXW3TICIOQBCND86Z0D3</td>\n",
       "      <td>itseddybruh321</td>\n",
       "      <td>Can I get an F?</td>\n",
       "      <td>csuf</td>\n",
       "      <td>https://i.redd.it/fyauh628svv41.jpg</td>\n",
       "      <td></td>\n",
       "      <td>1588248893</td>\n",
       "    </tr>\n",
       "    <tr>\n",
       "      <th>2126</th>\n",
       "      <td>C59OGYZWADQVRCCOREWSOUP3R</td>\n",
       "      <td>Enclo</td>\n",
       "      <td>WEE DID IT GUYS!!!!</td>\n",
       "      <td>Bitcoin</td>\n",
       "      <td>https://i.redd.it/vstmm6h5gvv41.jpg</td>\n",
       "      <td></td>\n",
       "      <td>1588246045</td>\n",
       "    </tr>\n",
       "    <tr>\n",
       "      <th>3213</th>\n",
       "      <td>ASD3C3PH204FAQ2EEHZY8IG7R</td>\n",
       "      <td>HotDamnGeoff</td>\n",
       "      <td>Judge rules Michigan stay-at-home order doesn’...</td>\n",
       "      <td>news</td>\n",
       "      <td>https://www.mlive.com/public-interest/2020/04/...</td>\n",
       "      <td></td>\n",
       "      <td>1588242787</td>\n",
       "    </tr>\n",
       "    <tr>\n",
       "      <th>5808</th>\n",
       "      <td>B58TYAT4F0NHFBZUICWDPD40N</td>\n",
       "      <td>hash0t0</td>\n",
       "      <td>WATCH: Los Angeles Becomes The First Major Cit...</td>\n",
       "      <td>Coronavirus</td>\n",
       "      <td>https://laist.com/latest/post/20200429/Mayor-G...</td>\n",
       "      <td></td>\n",
       "      <td>1588236015</td>\n",
       "    </tr>\n",
       "    <tr>\n",
       "      <th>...</th>\n",
       "      <td>...</td>\n",
       "      <td>...</td>\n",
       "      <td>...</td>\n",
       "      <td>...</td>\n",
       "      <td>...</td>\n",
       "      <td>...</td>\n",
       "      <td>...</td>\n",
       "    </tr>\n",
       "    <tr>\n",
       "      <th>1933</th>\n",
       "      <td>D78JO7OM0LR1WY6NHFWSBQDNB</td>\n",
       "      <td>RelentlessNoodle</td>\n",
       "      <td>Rainy day rage</td>\n",
       "      <td>csuf</td>\n",
       "      <td>http://imgur.com/73yOK</td>\n",
       "      <td></td>\n",
       "      <td>1317909231</td>\n",
       "    </tr>\n",
       "    <tr>\n",
       "      <th>1928</th>\n",
       "      <td>DDTOCOD0UAES37EX4SCEE5F9Z</td>\n",
       "      <td>socatoa</td>\n",
       "      <td>GGG has class in McCarthy Hall</td>\n",
       "      <td>csuf</td>\n",
       "      <td>http://imgur.com/oQD0n</td>\n",
       "      <td></td>\n",
       "      <td>1316742248</td>\n",
       "    </tr>\n",
       "    <tr>\n",
       "      <th>648</th>\n",
       "      <td>DCB6VGRG1W3ZVAFEGDW6BK6TZ</td>\n",
       "      <td>[deleted]</td>\n",
       "      <td>ಠ_ಠ</td>\n",
       "      <td>csuf</td>\n",
       "      <td>http://i.imgur.com/014nl.jpg</td>\n",
       "      <td></td>\n",
       "      <td>1315552265</td>\n",
       "    </tr>\n",
       "    <tr>\n",
       "      <th>4635</th>\n",
       "      <td>DDTMPJKPYG1X25DK3JF0AWVPZ</td>\n",
       "      <td>vashquash</td>\n",
       "      <td>Did anyone else see this in the elevators in t...</td>\n",
       "      <td>csuf</td>\n",
       "      <td>http://imgur.com/SfYd2</td>\n",
       "      <td></td>\n",
       "      <td>1314961075</td>\n",
       "    </tr>\n",
       "    <tr>\n",
       "      <th>1599</th>\n",
       "      <td>DIHUW9S0OIVH1Z4WBQIN29I8N</td>\n",
       "      <td>interbol</td>\n",
       "      <td>r/csuf, I present you the poster that will be ...</td>\n",
       "      <td>csuf</td>\n",
       "      <td>http://i.imgur.com/YySU9.png</td>\n",
       "      <td></td>\n",
       "      <td>1314604150</td>\n",
       "    </tr>\n",
       "  </tbody>\n",
       "</table>\n",
       "<p>5936 rows × 7 columns</p>\n",
       "</div>"
      ],
      "text/plain": [
       "                           uuid          username  \\\n",
       "421   CAEPJIPK49FSWZ4K02JBAFYJB           Sponta7   \n",
       "4115  CYBBQMXW3TICIOQBCND86Z0D3    itseddybruh321   \n",
       "2126  C59OGYZWADQVRCCOREWSOUP3R             Enclo   \n",
       "3213  ASD3C3PH204FAQ2EEHZY8IG7R      HotDamnGeoff   \n",
       "5808  B58TYAT4F0NHFBZUICWDPD40N           hash0t0   \n",
       "...                         ...               ...   \n",
       "1933  D78JO7OM0LR1WY6NHFWSBQDNB  RelentlessNoodle   \n",
       "1928  DDTOCOD0UAES37EX4SCEE5F9Z           socatoa   \n",
       "648   DCB6VGRG1W3ZVAFEGDW6BK6TZ         [deleted]   \n",
       "4635  DDTMPJKPYG1X25DK3JF0AWVPZ         vashquash   \n",
       "1599  DIHUW9S0OIVH1Z4WBQIN29I8N          interbol   \n",
       "\n",
       "                                                  title community_name  \\\n",
       "421   Made an annoying Python script that sends a fr...         Python   \n",
       "4115                                    Can I get an F?           csuf   \n",
       "2126                                WEE DID IT GUYS!!!!        Bitcoin   \n",
       "3213  Judge rules Michigan stay-at-home order doesn’...           news   \n",
       "5808  WATCH: Los Angeles Becomes The First Major Cit...    Coronavirus   \n",
       "...                                                 ...            ...   \n",
       "1933                                     Rainy day rage           csuf   \n",
       "1928                     GGG has class in McCarthy Hall           csuf   \n",
       "648                                                ಠ_ಠ            csuf   \n",
       "4635  Did anyone else see this in the elevators in t...           csuf   \n",
       "1599  r/csuf, I present you the poster that will be ...           csuf   \n",
       "\n",
       "                                                    url description  \\\n",
       "421                 https://i.redd.it/04iw5fezewv41.png               \n",
       "4115                https://i.redd.it/fyauh628svv41.jpg               \n",
       "2126                https://i.redd.it/vstmm6h5gvv41.jpg               \n",
       "3213  https://www.mlive.com/public-interest/2020/04/...               \n",
       "5808  https://laist.com/latest/post/20200429/Mayor-G...               \n",
       "...                                                 ...         ...   \n",
       "1933                             http://imgur.com/73yOK               \n",
       "1928                             http://imgur.com/oQD0n               \n",
       "648                        http://i.imgur.com/014nl.jpg               \n",
       "4635                             http://imgur.com/SfYd2               \n",
       "1599                       http://i.imgur.com/YySU9.png               \n",
       "\n",
       "       published  \n",
       "421   1588256580  \n",
       "4115  1588248893  \n",
       "2126  1588246045  \n",
       "3213  1588242787  \n",
       "5808  1588236015  \n",
       "...          ...  \n",
       "1933  1317909231  \n",
       "1928  1316742248  \n",
       "648   1315552265  \n",
       "4635  1314961075  \n",
       "1599  1314604150  \n",
       "\n",
       "[5936 rows x 7 columns]"
      ]
     },
     "execution_count": 52,
     "metadata": {},
     "output_type": "execute_result"
    }
   ],
   "source": [
    "posts.sort_values(by=['published'], ascending=False)"
   ]
  },
  {
   "cell_type": "code",
   "execution_count": null,
   "metadata": {},
   "outputs": [],
   "source": []
  }
 ],
 "metadata": {
  "kernelspec": {
   "display_name": "Python 3",
   "language": "python",
   "name": "python3"
  },
  "language_info": {
   "codemirror_mode": {
    "name": "ipython",
    "version": 3
   },
   "file_extension": ".py",
   "mimetype": "text/x-python",
   "name": "python",
   "nbconvert_exporter": "python",
   "pygments_lexer": "ipython3",
   "version": "3.6.10"
  }
 },
 "nbformat": 4,
 "nbformat_minor": 4
}
