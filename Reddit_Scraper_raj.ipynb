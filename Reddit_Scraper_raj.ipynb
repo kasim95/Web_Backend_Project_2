{
 "cells": [
  {
   "cell_type": "code",
   "execution_count": 7,
   "metadata": {
    "scrolled": true
   },
   "outputs": [
    {
     "name": "stdout",
     "output_type": "stream",
     "text": [
      "Collecting reddit_api_creds\n",
      "\u001b[31mCould not install packages due to an EnvironmentError: 404 Client Error: Not Found for url: https://pypi.org/simple/reddit-api-creds/\n",
      "\u001b[0m\n"
     ]
    }
   ],
   "source": [
    "! pip3 install reddit_api_creds"
   ]
  },
  {
   "cell_type": "code",
   "execution_count": 1,
   "metadata": {},
   "outputs": [
    {
     "ename": "ModuleNotFoundError",
     "evalue": "No module named 'reddit_api_creds'",
     "output_type": "error",
     "traceback": [
      "\u001b[0;31m---------------------------------------------------------------------------\u001b[0m",
      "\u001b[0;31mModuleNotFoundError\u001b[0m                       Traceback (most recent call last)",
      "\u001b[0;32m<ipython-input-1-786dc80556f5>\u001b[0m in \u001b[0;36m<module>\u001b[0;34m\u001b[0m\n\u001b[1;32m      4\u001b[0m \u001b[0;32mimport\u001b[0m \u001b[0mdatetime\u001b[0m\u001b[0;34m\u001b[0m\u001b[0;34m\u001b[0m\u001b[0m\n\u001b[1;32m      5\u001b[0m \u001b[0;32mimport\u001b[0m \u001b[0muuid\u001b[0m\u001b[0;34m\u001b[0m\u001b[0;34m\u001b[0m\u001b[0m\n\u001b[0;32m----> 6\u001b[0;31m \u001b[0;32mfrom\u001b[0m \u001b[0mreddit_api_creds\u001b[0m \u001b[0;32mimport\u001b[0m \u001b[0;34m*\u001b[0m\u001b[0;34m\u001b[0m\u001b[0;34m\u001b[0m\u001b[0m\n\u001b[0m",
      "\u001b[0;31mModuleNotFoundError\u001b[0m: No module named 'reddit_api_creds'"
     ]
    }
   ],
   "source": [
    "import praw\n",
    "import pandas as pd\n",
    "import requests\n",
    "import datetime\n",
    "import uuid\n",
    "from reddit_api_creds import *"
   ]
  },
  {
   "cell_type": "code",
   "execution_count": 2,
   "metadata": {},
   "outputs": [],
   "source": [
    "\n",
    "scraper = praw.Reddit(client_id='GENERTE_ONE',\n",
    "                     client_secret='GENERTE_ONE',\n",
    "                     password='password',\n",
    "                     user_agent='testscript3',\n",
    "                     username='NONE')"
   ]
  },
  {
   "cell_type": "code",
   "execution_count": 16,
   "metadata": {},
   "outputs": [],
   "source": [
    "data_post=pd.DataFrame()\n",
    "data_vote=pd.DataFrame()"
   ]
  },
  {
   "cell_type": "code",
   "execution_count": 17,
   "metadata": {},
   "outputs": [],
   "source": [
    "# Kudos to Wikipedia https://en.wikipedia.org/wiki/Base36\n",
    "def base36encode(integer: int) -> str:\n",
    "    \"\"\"Convert from Base10 to Base36.\"\"\"\n",
    "    chars = '0123456789ABCDEFGHIJKLMNOPQRSTUVWXYZ'\n",
    "\n",
    "    sign = '-' if integer < 0 else ''\n",
    "    integer = abs(integer)\n",
    "    result = ''\n",
    "\n",
    "    while integer > 0:\n",
    "        integer, remainder = divmod(integer, 36)\n",
    "        result = chars[remainder] + result\n",
    "\n",
    "    return sign + result"
   ]
  },
  {
   "cell_type": "markdown",
   "metadata": {},
   "source": [
    "# Scraper"
   ]
  },
  {
   "cell_type": "code",
   "execution_count": 18,
   "metadata": {},
   "outputs": [],
   "source": []
  },
  {
   "cell_type": "code",
   "execution_count": 62,
   "metadata": {},
   "outputs": [],
   "source": [
    "csuf = scraper.subreddit('bitcoin')"
   ]
  },
  {
   "cell_type": "code",
   "execution_count": 63,
   "metadata": {},
   "outputs": [],
   "source": [
    "#scraped_posts = csuf.hot(limit=10000)\n",
    "scraped_posts = csuf.top(limit=30)"
   ]
  },
  {
   "cell_type": "code",
   "execution_count": 64,
   "metadata": {},
   "outputs": [],
   "source": [
    "data = []\n",
    "data1 = []\n",
    "for post in scraped_posts:\n",
    "    # get base36 uuid\n",
    "    uid = uuid.uuid1()\n",
    "    uid = base36encode(uid.int)\n",
    "    \n",
    "    # username\n",
    "    username = post.author\n",
    "    if type(username) == praw.models.Redditor:\n",
    "        username = post.author.name\n",
    "    else:\n",
    "        username = '[deleted]'\n",
    "    \n",
    "    # community_name\n",
    "    community_name = post.subreddit.display_name\n",
    "    data.append([uid, username, post.title, community_name, post.url, post.selftext, post.created])\n",
    "    data1.append([uid, post.created ,post.score, community_name])"
   ]
  },
  {
   "cell_type": "code",
   "execution_count": 65,
   "metadata": {},
   "outputs": [],
   "source": [
    "posts = pd.DataFrame(data, columns=['uuid', 'username', 'title', 'community_name', 'url', 'description', 'published'])\n",
    "votes = pd.DataFrame(data1, columns=['uuid','published' ,'score', 'community_name'])\n",
    "posts['published'] = [datetime.datetime.utcfromtimestamp(i).isoformat() for i in posts['published']]\n",
    "# posts['username'] = [i.name if type(i)==praw.models.Redditor else '[deleted]' for i in posts['username']]\n",
    "# posts['community_name'] = [i.display_name for i in posts['community_name']]\n",
    "# votes['community_name'] = [i.display_name for i in votes['community_name']]\n",
    "posts = posts.convert_dtypes()"
   ]
  },
  {
   "cell_type": "markdown",
   "metadata": {},
   "source": [
    "# Shuffle dataframes"
   ]
  },
  {
   "cell_type": "code",
   "execution_count": 66,
   "metadata": {},
   "outputs": [],
   "source": [
    "posts = posts.sample(frac=1, random_state=100).reset_index(drop=True)\n",
    "votes = votes.sample(frac=1, random_state=100).reset_index(drop=True)"
   ]
  },
  {
   "cell_type": "markdown",
   "metadata": {},
   "source": [
    "# Count and dtypes"
   ]
  },
  {
   "cell_type": "code",
   "execution_count": 67,
   "metadata": {},
   "outputs": [
    {
     "name": "stdout",
     "output_type": "stream",
     "text": [
      "uuid              string\n",
      "username          string\n",
      "title             string\n",
      "community_name    string\n",
      "url               string\n",
      "description       string\n",
      "published         string\n",
      "dtype: object\n"
     ]
    }
   ],
   "source": [
    "print(posts.dtypes)"
   ]
  },
  {
   "cell_type": "code",
   "execution_count": 68,
   "metadata": {},
   "outputs": [
    {
     "data": {
      "text/html": [
       "<div>\n",
       "<style scoped>\n",
       "    .dataframe tbody tr th:only-of-type {\n",
       "        vertical-align: middle;\n",
       "    }\n",
       "\n",
       "    .dataframe tbody tr th {\n",
       "        vertical-align: top;\n",
       "    }\n",
       "\n",
       "    .dataframe thead th {\n",
       "        text-align: right;\n",
       "    }\n",
       "</style>\n",
       "<table border=\"1\" class=\"dataframe\">\n",
       "  <thead>\n",
       "    <tr style=\"text-align: right;\">\n",
       "      <th></th>\n",
       "      <th>username</th>\n",
       "      <th>title</th>\n",
       "      <th>url</th>\n",
       "      <th>description</th>\n",
       "      <th>published</th>\n",
       "    </tr>\n",
       "    <tr>\n",
       "      <th>community_name</th>\n",
       "      <th></th>\n",
       "      <th></th>\n",
       "      <th></th>\n",
       "      <th></th>\n",
       "      <th></th>\n",
       "    </tr>\n",
       "  </thead>\n",
       "  <tbody>\n",
       "    <tr>\n",
       "      <th>Bitcoin</th>\n",
       "      <td>30</td>\n",
       "      <td>30</td>\n",
       "      <td>30</td>\n",
       "      <td>30</td>\n",
       "      <td>30</td>\n",
       "    </tr>\n",
       "  </tbody>\n",
       "</table>\n",
       "</div>"
      ],
      "text/plain": [
       "                username  title  url  description  published\n",
       "community_name                                              \n",
       "Bitcoin               30     30   30           30         30"
      ]
     },
     "execution_count": 68,
     "metadata": {},
     "output_type": "execute_result"
    }
   ],
   "source": [
    "# print no of records in each community\n",
    "posts.set_index(['uuid', 'community_name']).count(level='community_name')"
   ]
  },
  {
   "cell_type": "code",
   "execution_count": 69,
   "metadata": {},
   "outputs": [],
   "source": [
    "data_post=data_post.append(posts, ignore_index = True) \n",
    "data_vote=data_vote.append(votes, ignore_index = True) "
   ]
  },
  {
   "cell_type": "markdown",
   "metadata": {},
   "source": [
    "# Save to JSON and csv"
   ]
  },
  {
   "cell_type": "code",
   "execution_count": 70,
   "metadata": {},
   "outputs": [
    {
     "data": {
      "text/html": [
       "<div>\n",
       "<style scoped>\n",
       "    .dataframe tbody tr th:only-of-type {\n",
       "        vertical-align: middle;\n",
       "    }\n",
       "\n",
       "    .dataframe tbody tr th {\n",
       "        vertical-align: top;\n",
       "    }\n",
       "\n",
       "    .dataframe thead th {\n",
       "        text-align: right;\n",
       "    }\n",
       "</style>\n",
       "<table border=\"1\" class=\"dataframe\">\n",
       "  <thead>\n",
       "    <tr style=\"text-align: right;\">\n",
       "      <th></th>\n",
       "      <th>uuid</th>\n",
       "      <th>username</th>\n",
       "      <th>title</th>\n",
       "      <th>community_name</th>\n",
       "      <th>url</th>\n",
       "      <th>description</th>\n",
       "      <th>published</th>\n",
       "    </tr>\n",
       "  </thead>\n",
       "  <tbody>\n",
       "    <tr>\n",
       "      <th>0</th>\n",
       "      <td>BOERRW8N26WEYZQSOVC7XUSJ</td>\n",
       "      <td>HotSwap_</td>\n",
       "      <td>Laid off for 8 weeks. Anyone else starting the...</td>\n",
       "      <td>Python</td>\n",
       "      <td>https://i.redd.it/uqia9wc853n41.jpg</td>\n",
       "      <td></td>\n",
       "      <td>2020-03-17T03:23:03</td>\n",
       "    </tr>\n",
       "    <tr>\n",
       "      <th>1</th>\n",
       "      <td>BOERVITLEFY7M6DJVZ4YV8YR</td>\n",
       "      <td>R0dartha</td>\n",
       "      <td>I created a python script to generate color pa...</td>\n",
       "      <td>Python</td>\n",
       "      <td>https://i.redd.it/70kl5aweqpu31.jpg</td>\n",
       "      <td></td>\n",
       "      <td>2019-10-26T00:21:00</td>\n",
       "    </tr>\n",
       "    <tr>\n",
       "      <th>2</th>\n",
       "      <td>BOERVY6NBND8V99VK3TIZ6EB</td>\n",
       "      <td>StreetStatistician</td>\n",
       "      <td>The entire MIT Intro Computer Science class us...</td>\n",
       "      <td>Python</td>\n",
       "      <td>https://www.youtube.com/watch?v=ytpJdnlu9ug&amp;li...</td>\n",
       "      <td></td>\n",
       "      <td>2018-12-21T03:43:12</td>\n",
       "    </tr>\n",
       "    <tr>\n",
       "      <th>3</th>\n",
       "      <td>BOERSQYQWLQHH5JG14PC5PNN</td>\n",
       "      <td>sothisiswhyhmm</td>\n",
       "      <td>3 days ago, told my wife I’d learn to code and...</td>\n",
       "      <td>Python</td>\n",
       "      <td>https://i.redd.it/uchxh9rqnjq41.jpg</td>\n",
       "      <td></td>\n",
       "      <td>2020-04-03T14:07:38</td>\n",
       "    </tr>\n",
       "    <tr>\n",
       "      <th>4</th>\n",
       "      <td>BOERR1IJ7S2CGTY5CLZ3PZXF</td>\n",
       "      <td>redditNewUser2017</td>\n",
       "      <td>I've made a 3D scanner that's fully automated ...</td>\n",
       "      <td>Python</td>\n",
       "      <td>https://v.redd.it/n8nsbsq0pfh41</td>\n",
       "      <td></td>\n",
       "      <td>2020-02-17T15:12:31</td>\n",
       "    </tr>\n",
       "    <tr>\n",
       "      <th>...</th>\n",
       "      <td>...</td>\n",
       "      <td>...</td>\n",
       "      <td>...</td>\n",
       "      <td>...</td>\n",
       "      <td>...</td>\n",
       "      <td>...</td>\n",
       "      <td>...</td>\n",
       "    </tr>\n",
       "    <tr>\n",
       "      <th>145</th>\n",
       "      <td>AV6T9ONMCY9XNY11LK0OFPQG3</td>\n",
       "      <td>MichKOG</td>\n",
       "      <td>Almost everyone now is an Investor</td>\n",
       "      <td>Bitcoin</td>\n",
       "      <td>https://imgur.com/nb33jRX</td>\n",
       "      <td></td>\n",
       "      <td>2017-12-01T02:58:39</td>\n",
       "    </tr>\n",
       "    <tr>\n",
       "      <th>146</th>\n",
       "      <td>AV6T9L8PXKMLDXDV06Z7YUAZN</td>\n",
       "      <td>benjaminikuta</td>\n",
       "      <td>Nothing can increase by that much and still be...</td>\n",
       "      <td>Bitcoin</td>\n",
       "      <td>https://i.imgur.com/oWePY7q.jpg</td>\n",
       "      <td></td>\n",
       "      <td>2017-12-13T16:02:51</td>\n",
       "    </tr>\n",
       "    <tr>\n",
       "      <th>147</th>\n",
       "      <td>AV6T9KDZTQ7RBF82CUPUUMG4J</td>\n",
       "      <td>[deleted]</td>\n",
       "      <td>Everyone who's trading BTC right now</td>\n",
       "      <td>Bitcoin</td>\n",
       "      <td>http://cdn.mutually.com/wp-content/uploads/201...</td>\n",
       "      <td></td>\n",
       "      <td>2018-01-07T04:38:56</td>\n",
       "    </tr>\n",
       "    <tr>\n",
       "      <th>148</th>\n",
       "      <td>AV6T9OVAVWVN6KKHRE30PRP5V</td>\n",
       "      <td>swahlgren</td>\n",
       "      <td>Danish Bitcoin billionaire new sponsor of prof...</td>\n",
       "      <td>Bitcoin</td>\n",
       "      <td>https://www.business.dk/virksomheder/dansk-bit...</td>\n",
       "      <td></td>\n",
       "      <td>2017-12-14T21:17:55</td>\n",
       "    </tr>\n",
       "    <tr>\n",
       "      <th>149</th>\n",
       "      <td>AV6T9LGEGJ8AWJXB611K8W9PF</td>\n",
       "      <td>Kittstar123</td>\n",
       "      <td>This is why I want bitcoin to hit $10,000</td>\n",
       "      <td>Bitcoin</td>\n",
       "      <td>https://i.redd.it/fhzsxgcv9nyz.jpg</td>\n",
       "      <td></td>\n",
       "      <td>2017-11-18T10:25:57</td>\n",
       "    </tr>\n",
       "  </tbody>\n",
       "</table>\n",
       "<p>150 rows × 7 columns</p>\n",
       "</div>"
      ],
      "text/plain": [
       "                          uuid            username  \\\n",
       "0     BOERRW8N26WEYZQSOVC7XUSJ            HotSwap_   \n",
       "1     BOERVITLEFY7M6DJVZ4YV8YR            R0dartha   \n",
       "2     BOERVY6NBND8V99VK3TIZ6EB  StreetStatistician   \n",
       "3     BOERSQYQWLQHH5JG14PC5PNN      sothisiswhyhmm   \n",
       "4     BOERR1IJ7S2CGTY5CLZ3PZXF   redditNewUser2017   \n",
       "..                         ...                 ...   \n",
       "145  AV6T9ONMCY9XNY11LK0OFPQG3             MichKOG   \n",
       "146  AV6T9L8PXKMLDXDV06Z7YUAZN       benjaminikuta   \n",
       "147  AV6T9KDZTQ7RBF82CUPUUMG4J           [deleted]   \n",
       "148  AV6T9OVAVWVN6KKHRE30PRP5V           swahlgren   \n",
       "149  AV6T9LGEGJ8AWJXB611K8W9PF         Kittstar123   \n",
       "\n",
       "                                                 title community_name  \\\n",
       "0    Laid off for 8 weeks. Anyone else starting the...         Python   \n",
       "1    I created a python script to generate color pa...         Python   \n",
       "2    The entire MIT Intro Computer Science class us...         Python   \n",
       "3    3 days ago, told my wife I’d learn to code and...         Python   \n",
       "4    I've made a 3D scanner that's fully automated ...         Python   \n",
       "..                                                 ...            ...   \n",
       "145                 Almost everyone now is an Investor        Bitcoin   \n",
       "146  Nothing can increase by that much and still be...        Bitcoin   \n",
       "147               Everyone who's trading BTC right now        Bitcoin   \n",
       "148  Danish Bitcoin billionaire new sponsor of prof...        Bitcoin   \n",
       "149          This is why I want bitcoin to hit $10,000        Bitcoin   \n",
       "\n",
       "                                                   url description  \\\n",
       "0                  https://i.redd.it/uqia9wc853n41.jpg               \n",
       "1                  https://i.redd.it/70kl5aweqpu31.jpg               \n",
       "2    https://www.youtube.com/watch?v=ytpJdnlu9ug&li...               \n",
       "3                  https://i.redd.it/uchxh9rqnjq41.jpg               \n",
       "4                      https://v.redd.it/n8nsbsq0pfh41               \n",
       "..                                                 ...         ...   \n",
       "145                          https://imgur.com/nb33jRX               \n",
       "146                    https://i.imgur.com/oWePY7q.jpg               \n",
       "147  http://cdn.mutually.com/wp-content/uploads/201...               \n",
       "148  https://www.business.dk/virksomheder/dansk-bit...               \n",
       "149                 https://i.redd.it/fhzsxgcv9nyz.jpg               \n",
       "\n",
       "               published  \n",
       "0    2020-03-17T03:23:03  \n",
       "1    2019-10-26T00:21:00  \n",
       "2    2018-12-21T03:43:12  \n",
       "3    2020-04-03T14:07:38  \n",
       "4    2020-02-17T15:12:31  \n",
       "..                   ...  \n",
       "145  2017-12-01T02:58:39  \n",
       "146  2017-12-13T16:02:51  \n",
       "147  2018-01-07T04:38:56  \n",
       "148  2017-12-14T21:17:55  \n",
       "149  2017-11-18T10:25:57  \n",
       "\n",
       "[150 rows x 7 columns]"
      ]
     },
     "execution_count": 70,
     "metadata": {},
     "output_type": "execute_result"
    }
   ],
   "source": [
    "data_post"
   ]
  },
  {
   "cell_type": "code",
   "execution_count": 71,
   "metadata": {},
   "outputs": [],
   "source": [
    "data_post.to_json('posts.json', index=False, orient='table', indent=1)"
   ]
  },
  {
   "cell_type": "code",
   "execution_count": 72,
   "metadata": {},
   "outputs": [],
   "source": [
    "data_vote.to_json('votes.json', index=False, orient='table', indent=1)"
   ]
  },
  {
   "cell_type": "code",
   "execution_count": 73,
   "metadata": {},
   "outputs": [],
   "source": [
    "data_post.to_csv('posts.csv')\n",
    "data_vote.to_csv('votes.csv')"
   ]
  },
  {
   "cell_type": "code",
   "execution_count": null,
   "metadata": {},
   "outputs": [],
   "source": []
  },
  {
   "cell_type": "code",
   "execution_count": null,
   "metadata": {},
   "outputs": [],
   "source": []
  }
 ],
 "metadata": {
  "kernelspec": {
   "display_name": "Python 3",
   "language": "python",
   "name": "python3"
  },
  "language_info": {
   "codemirror_mode": {
    "name": "ipython",
    "version": 3
   },
   "file_extension": ".py",
   "mimetype": "text/x-python",
   "name": "python",
   "nbconvert_exporter": "python",
   "pygments_lexer": "ipython3",
   "version": "3.7.3"
  }
 },
 "nbformat": 4,
 "nbformat_minor": 4
}
